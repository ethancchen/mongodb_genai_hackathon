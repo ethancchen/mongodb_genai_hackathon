{
 "cells": [
  {
   "cell_type": "code",
   "execution_count": 1,
   "metadata": {},
   "outputs": [
    {
     "name": "stderr",
     "output_type": "stream",
     "text": [
      "[nltk_data] Downloading package stopwords to /Users/ethan/local_deskto\n",
      "[nltk_data]     p/mongodb_genai_hackathon/venv/lib/python3.12/site-\n",
      "[nltk_data]     packages/llama_index/legacy/_static/nltk_cache...\n",
      "[nltk_data]   Unzipping corpora/stopwords.zip.\n",
      "[nltk_data] Downloading package punkt to /Users/ethan/local_desktop/mo\n",
      "[nltk_data]     ngodb_genai_hackathon/venv/lib/python3.12/site-\n",
      "[nltk_data]     packages/llama_index/legacy/_static/nltk_cache...\n",
      "[nltk_data]   Unzipping tokenizers/punkt.zip.\n",
      "None of PyTorch, TensorFlow >= 2.0, or Flax have been found. Models won't be available and only tokenizers, configuration and file/data utilities can be used.\n"
     ]
    }
   ],
   "source": [
    "import os\n",
    "from llama_index.llms.solar import Solar\n",
    "from llama_index.core.base.llms.types import ChatMessage, MessageRole"
   ]
  },
  {
   "cell_type": "code",
   "execution_count": 2,
   "metadata": {},
   "outputs": [
    {
     "name": "stdout",
     "output_type": "stream",
     "text": [
      "/Users/ethan/local_desktop/mongodb_genai_hackathon/venv/bin/python\n"
     ]
    }
   ],
   "source": [
    "!which python"
   ]
  },
  {
   "cell_type": "code",
   "execution_count": 3,
   "metadata": {},
   "outputs": [
    {
     "name": "stdout",
     "output_type": "stream",
     "text": [
      "assistant: Mother also went in.\n"
     ]
    }
   ],
   "source": [
    "os.environ[\"SOLAR_API_KEY\"] = \"hack-with-upstage-solar-0420\"\n",
    "\n",
    "llm = Solar(model=\"solar-1-mini-chat\", is_chat_model=True)\n",
    "response = llm.chat(\n",
    "    messages=[\n",
    "        ChatMessage(role=\"user\", content=\"아버지가방에들어가셨다\"),\n",
    "        ChatMessage(role=\"assistant\", content=\"Father went into his room\"),\n",
    "        ChatMessage(role=\"user\", content=\"엄마도들어가셨다\"),\n",
    "    ]\n",
    ")\n",
    "print(response)"
   ]
  },
  {
   "cell_type": "code",
   "execution_count": null,
   "metadata": {},
   "outputs": [],
   "source": []
  }
 ],
 "metadata": {
  "kernelspec": {
   "display_name": "venv",
   "language": "python",
   "name": "python3"
  },
  "language_info": {
   "codemirror_mode": {
    "name": "ipython",
    "version": 3
   },
   "file_extension": ".py",
   "mimetype": "text/x-python",
   "name": "python",
   "nbconvert_exporter": "python",
   "pygments_lexer": "ipython3",
   "version": "3.12.2"
  }
 },
 "nbformat": 4,
 "nbformat_minor": 2
}
